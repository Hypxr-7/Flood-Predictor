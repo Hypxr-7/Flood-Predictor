{
 "cells": [
  {
   "cell_type": "code",
   "execution_count": 2,
   "id": "6641e23a",
   "metadata": {},
   "outputs": [],
   "source": [
    "import ee, geemap, datetime as dt"
   ]
  },
  {
   "cell_type": "code",
   "execution_count": null,
   "id": "82722b4b",
   "metadata": {},
   "outputs": [
    {
     "data": {
      "text/html": [
       "\n",
       "            <style>\n",
       "                .geemap-dark {\n",
       "                    --jp-widgets-color: white;\n",
       "                    --jp-widgets-label-color: white;\n",
       "                    --jp-ui-font-color1: white;\n",
       "                    --jp-layout-color2: #454545;\n",
       "                    background-color: #383838;\n",
       "                }\n",
       "\n",
       "                .geemap-dark .jupyter-button {\n",
       "                    --jp-layout-color3: #383838;\n",
       "                }\n",
       "\n",
       "                .geemap-colab {\n",
       "                    background-color: var(--colab-primary-surface-color, white);\n",
       "                }\n",
       "\n",
       "                .geemap-colab .jupyter-button {\n",
       "                    --jp-layout-color3: var(--colab-primary-surface-color, white);\n",
       "                }\n",
       "            </style>\n",
       "            "
      ],
      "text/plain": [
       "<IPython.core.display.HTML object>"
      ]
     },
     "metadata": {},
     "output_type": "display_data"
    }
   ],
   "source": [
    "ee.Initialize(project=\"flood-predictor-458709\")\n",
    "\n",
    "# Bounding box roughly covering Sindh\n",
    "sindh_coords = [[[69.36930566940416, 28.491271735833283],\n",
    "          [68.47941309127916, 28.47195842642833],\n",
    "          [68.34757715377916, 28.3463359106437],\n",
    "          [68.12785059127916, 28.21088376360882],\n",
    "          [67.84220606002916, 27.95887386849454],\n",
    "          [67.44669824752916, 27.871502096599],\n",
    "          [67.24894434127916, 27.64789865441828],\n",
    "          [67.16105371627916, 27.375067747692672],\n",
    "          [67.15006738815416, 26.856795208062252],\n",
    "          [67.18302637252916, 26.50339897787297],\n",
    "          [67.39176660690416, 26.208068833533147],\n",
    "          [67.44669824752916, 25.823017465134107],\n",
    "          [67.16105371627916, 25.397017986935314],\n",
    "          [67.12809473190416, 25.23812034267632],\n",
    "          [66.98527246627916, 25.03920590911963],\n",
    "          [66.74357324752916, 24.979468485309294],\n",
    "          [66.65568262252916, 24.85990659856756],\n",
    "          [66.85343652877916, 24.84993787926005],\n",
    "          [67.02921777877916, 24.790108702044094],\n",
    "          [67.19401270065416, 24.610448167399934],\n",
    "          [67.28190332565416, 24.420526166703684],\n",
    "          [67.32584863815416, 24.250353244154304],\n",
    "          [67.44669824752916, 24.03982500031995],\n",
    "          [67.60050684127916, 23.87919042293869],\n",
    "          [67.75431543502916, 23.81890093669589],\n",
    "          [67.98502832565416, 23.748527794610634],\n",
    "          [68.21574121627916, 23.68817767030865],\n",
    "          [68.34757715377916, 23.98964820004025],\n",
    "          [68.76505762252916, 23.969572000697074],\n",
    "          [68.77604395065416, 24.29041448712888],\n",
    "          [69.21054350907603, 24.261840527523468],\n",
    "          [69.6670214863455, 24.292056581676597],\n",
    "          [69.71403002286215, 24.216742897925894],\n",
    "          [69.87081327525628, 24.181436366260744],\n",
    "          [70.00562342358802, 24.19614369123337],\n",
    "          [70.07460327137314, 24.29093981141138],\n",
    "          [70.56141708098181, 24.466418133542536],\n",
    "          [70.63472428470699, 24.204100054763565],\n",
    "          [70.8177282272066, 24.302157509305587],\n",
    "          [70.93492204158476, 24.37989590371818],\n",
    "          [71.08151843342519, 24.428764003333672],\n",
    "          [71.0744716593636, 24.677576404550244],\n",
    "          [70.84043982818369, 25.147951066380926],\n",
    "          [70.66641732292094, 25.42360166566876],\n",
    "          [70.62370484096166, 25.699111132383642],\n",
    "          [70.41165846802771, 25.65034336300033],\n",
    "          [70.22145618335809, 25.759740585590844],\n",
    "          [70.05181099656994, 26.06207345751372],\n",
    "          [70.1535035219853, 26.1936301910018],\n",
    "          [70.16049507599844, 26.387482471054657],\n",
    "          [70.1014902865915, 26.541960098456148],\n",
    "          [69.9993555879304, 26.57509017665521],\n",
    "          [69.83124811223924, 26.588440729322624],\n",
    "          [69.4506190063056, 26.83120223284854],\n",
    "          [69.5704928853013, 27.163223493069317],\n",
    "          [69.95672415471721, 27.54644972738804],\n",
    "          [70.08453019526463, 27.71768632998689],\n",
    "          [70.1595535018085, 27.881185710690666],\n",
    "          [69.98282645814479, 27.989720403411862],\n",
    "          [69.82215474802067, 28.31374404351952],\n",
    "          [69.816603058706, 28.368010725946274],\n",
    "          [69.73408392749116, 28.465760399532567],\n",
    "          [69.60189753349103, 28.477599319727837],\n",
    "          [69.57075317347648, 28.513450205058234],\n",
    "          [69.51121756623884, 28.51929256412606],\n",
    "          [69.36930566940416, 28.491271735833283]]]\n",
    "\n",
    "\n",
    "region = ee.Geometry.Polygon(sindh_coords)\n",
    "\n",
    "# 2010‑01‑01 00:00 to 2025‑08‑02 00:00\n",
    "start = ee.Date('2010-01-01T00:00')\n",
    "end   = ee.Date('2025-08-02T00:00')\n",
    "\n",
    "# Create an interactive \n",
    "Map = geemap.Map(center=[28, 66], zoom=6)\n",
    "\n",
    "# Add the polygon to the map\n",
    "Map.addLayer(region, {'color': 'red'}, 'Sindh Border')\n",
    "\n",
    "# Display the map\n",
    "Map.to_html(\"sindh_map.html\")"
   ]
  },
  {
   "cell_type": "code",
   "execution_count": 6,
   "id": "a747a4ae",
   "metadata": {},
   "outputs": [
    {
     "data": {
      "text/html": [
       "\n",
       "            <style>\n",
       "                .geemap-dark {\n",
       "                    --jp-widgets-color: white;\n",
       "                    --jp-widgets-label-color: white;\n",
       "                    --jp-ui-font-color1: white;\n",
       "                    --jp-layout-color2: #454545;\n",
       "                    background-color: #383838;\n",
       "                }\n",
       "\n",
       "                .geemap-dark .jupyter-button {\n",
       "                    --jp-layout-color3: #383838;\n",
       "                }\n",
       "\n",
       "                .geemap-colab {\n",
       "                    background-color: var(--colab-primary-surface-color, white);\n",
       "                }\n",
       "\n",
       "                .geemap-colab .jupyter-button {\n",
       "                    --jp-layout-color3: var(--colab-primary-surface-color, white);\n",
       "                }\n",
       "            </style>\n",
       "            "
      ],
      "text/plain": [
       "<IPython.core.display.HTML object>"
      ]
     },
     "metadata": {},
     "output_type": "display_data"
    }
   ],
   "source": [
    "imerg = (ee.ImageCollection('NASA/GPM_L3/IMERG_V07')\n",
    "           .filterDate(start, end)\n",
    "           .filterBounds(region)\n",
    "           .select('precipitationCal')) "
   ]
  },
  {
   "cell_type": "code",
   "execution_count": 12,
   "id": "e5baaf2a",
   "metadata": {},
   "outputs": [
    {
     "data": {
      "text/html": [
       "\n",
       "            <style>\n",
       "                .geemap-dark {\n",
       "                    --jp-widgets-color: white;\n",
       "                    --jp-widgets-label-color: white;\n",
       "                    --jp-ui-font-color1: white;\n",
       "                    --jp-layout-color2: #454545;\n",
       "                    background-color: #383838;\n",
       "                }\n",
       "\n",
       "                .geemap-dark .jupyter-button {\n",
       "                    --jp-layout-color3: #383838;\n",
       "                }\n",
       "\n",
       "                .geemap-colab {\n",
       "                    background-color: var(--colab-primary-surface-color, white);\n",
       "                }\n",
       "\n",
       "                .geemap-colab .jupyter-button {\n",
       "                    --jp-layout-color3: var(--colab-primary-surface-color, white);\n",
       "                }\n",
       "            </style>\n",
       "            "
      ],
      "text/plain": [
       "<IPython.core.display.HTML object>"
      ]
     },
     "metadata": {},
     "output_type": "display_data"
    }
   ],
   "source": [
    "n_days = end.difference(start, 'day').subtract(1)\n",
    "zero_rain = ee.Image.constant(0).rename('precipitationCal')\n",
    "\n",
    "def one_day(n):\n",
    "    day_start = start.advance(n, 'day')\n",
    "    day_end   = day_start.advance(1, 'day')\n",
    "    day_imgs  = imerg.filterDate(day_start, day_end)\n",
    "\n",
    "    daily_mm = ee.Algorithms.If(\n",
    "        day_imgs.size().gt(0),\n",
    "        day_imgs.sum(),           # collection has data\n",
    "        zero_rain                 # fallback image\n",
    "    )\n",
    "    daily_mm = ee.Image(daily_mm).multiply(0.5)      # mm depth\n",
    "\n",
    "    mean_mm = daily_mm.reduceRegion(\n",
    "        ee.Reducer.mean(), region, 1e4, bestEffort=True).get('precipitationCal')\n",
    "\n",
    "    return ee.Feature(None, {\n",
    "        'time': day_start.format('YYYY-MM-dd'),\n",
    "        'rain_mm': mean_mm               # will be 0 for missing days\n",
    "    })\n"
   ]
  },
  {
   "cell_type": "code",
   "execution_count": null,
   "id": "62eaec51",
   "metadata": {},
   "outputs": [
    {
     "data": {
      "text/html": [
       "\n",
       "            <style>\n",
       "                .geemap-dark {\n",
       "                    --jp-widgets-color: white;\n",
       "                    --jp-widgets-label-color: white;\n",
       "                    --jp-ui-font-color1: white;\n",
       "                    --jp-layout-color2: #454545;\n",
       "                    background-color: #383838;\n",
       "                }\n",
       "\n",
       "                .geemap-dark .jupyter-button {\n",
       "                    --jp-layout-color3: #383838;\n",
       "                }\n",
       "\n",
       "                .geemap-colab {\n",
       "                    background-color: var(--colab-primary-surface-color, white);\n",
       "                }\n",
       "\n",
       "                .geemap-colab .jupyter-button {\n",
       "                    --jp-layout-color3: var(--colab-primary-surface-color, white);\n",
       "                }\n",
       "            </style>\n",
       "            "
      ],
      "text/plain": [
       "<IPython.core.display.HTML object>"
      ]
     },
     "metadata": {},
     "output_type": "display_data"
    },
    {
     "name": "stdout",
     "output_type": "stream",
     "text": [
      "   rain_mm        time\n",
      "0        0  2025-08-01\n",
      "Saved 1 rows to CSV.\n"
     ]
    }
   ],
   "source": [
    "days = ee.List.sequence(0, n_days)\n",
    "daily_fc  = ee.FeatureCollection(days.map(one_day))\n",
    "\n",
    "# --- 4A. Quick in‑notebook grab (good for ≤ ~5 000 rows) -----------------------\n",
    "df = geemap.ee_to_df(daily_fc)     # pulls everything into a pandas DataFrame\n",
    "df.to_csv('sindh_daily_precip_2010-2025.csv', index=False)\n",
    "print(df.head())\n",
    "print(\"Saved\", len(df), \"rows to CSV.\")\n"
   ]
  },
  {
   "cell_type": "code",
   "execution_count": 14,
   "id": "49550278",
   "metadata": {},
   "outputs": [
    {
     "data": {
      "text/html": [
       "\n",
       "            <style>\n",
       "                .geemap-dark {\n",
       "                    --jp-widgets-color: white;\n",
       "                    --jp-widgets-label-color: white;\n",
       "                    --jp-ui-font-color1: white;\n",
       "                    --jp-layout-color2: #454545;\n",
       "                    background-color: #383838;\n",
       "                }\n",
       "\n",
       "                .geemap-dark .jupyter-button {\n",
       "                    --jp-layout-color3: #383838;\n",
       "                }\n",
       "\n",
       "                .geemap-colab {\n",
       "                    background-color: var(--colab-primary-surface-color, white);\n",
       "                }\n",
       "\n",
       "                .geemap-colab .jupyter-button {\n",
       "                    --jp-layout-color3: var(--colab-primary-surface-color, white);\n",
       "                }\n",
       "            </style>\n",
       "            "
      ],
      "text/plain": [
       "<IPython.core.display.HTML object>"
      ]
     },
     "metadata": {},
     "output_type": "display_data"
    },
    {
     "name": "stdout",
     "output_type": "stream",
     "text": [
      "IMERG scenes in your span: 0\n",
      "Rows before filter: 1\n",
      "Rows after notNull(): 1\n"
     ]
    }
   ],
   "source": [
    "print('IMERG scenes in your span:',\n",
    "      imerg.size().getInfo())                       # should be > 0\n",
    "\n",
    "# How many days did the mapper actually emit?\n",
    "test_fc = ee.FeatureCollection(days.map(one_day))\n",
    "print('Rows before filter:',   test_fc.size().getInfo())\n",
    "print('Rows after notNull():', daily_fc.size().getInfo())\n"
   ]
  }
 ],
 "metadata": {
  "kernelspec": {
   "display_name": ".venv",
   "language": "python",
   "name": "python3"
  },
  "language_info": {
   "codemirror_mode": {
    "name": "ipython",
    "version": 3
   },
   "file_extension": ".py",
   "mimetype": "text/x-python",
   "name": "python",
   "nbconvert_exporter": "python",
   "pygments_lexer": "ipython3",
   "version": "3.12.3"
  }
 },
 "nbformat": 4,
 "nbformat_minor": 5
}
